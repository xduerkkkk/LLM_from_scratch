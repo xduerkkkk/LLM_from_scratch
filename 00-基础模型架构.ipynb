{
 "cells": [
  {
   "cell_type": "code",
   "execution_count": 9,
   "metadata": {},
   "outputs": [],
   "source": [
    "import torch\n",
    "import torch.nn as nn\n",
    "import torch.optim as optim\n",
    "import torch.nn.functional as F"
   ]
  },
  {
   "cell_type": "code",
   "execution_count": 2,
   "metadata": {},
   "outputs": [],
   "source": [
    "X = torch.randn(4,5)"
   ]
  },
  {
   "cell_type": "markdown",
   "metadata": {},
   "source": [
    "4个样本 每个样本都是5个特征"
   ]
  },
  {
   "cell_type": "code",
   "execution_count": 7,
   "metadata": {},
   "outputs": [
    {
     "data": {
      "text/plain": [
       "tensor([[ 1.7966,  1.1930, -0.7099, -0.3479, -1.1418],\n",
       "        [ 0.4967, -1.4583, -0.1602, -1.6547,  0.0456],\n",
       "        [ 0.4694, -1.2293,  0.8237,  0.5772, -1.4365],\n",
       "        [-1.0842,  0.5436, -1.3122,  1.0892,  0.8553]])"
      ]
     },
     "execution_count": 7,
     "metadata": {},
     "output_type": "execute_result"
    }
   ],
   "source": [
    "X"
   ]
  },
  {
   "cell_type": "code",
   "execution_count": 3,
   "metadata": {},
   "outputs": [
    {
     "name": "stdout",
     "output_type": "stream",
     "text": [
      "tensor([[-0.0371,  0.4415],\n",
      "        [ 0.2429, -0.9214],\n",
      "        [ 0.5022,  0.0518],\n",
      "        [ 0.7070, -1.2248]])\n"
     ]
    }
   ],
   "source": [
    "Y = torch.randn(4,2)\n",
    "# 每个样本两个特征\n",
    "print(Y)"
   ]
  },
  {
   "cell_type": "markdown",
   "metadata": {},
   "source": [
    "构建模型\n",
    "该模型输入是5维向量\n",
    "输出10维向量\n",
    "使用线性层+激活函数＋线性层 实现\n",
    "\n"
   ]
  },
  {
   "cell_type": "code",
   "execution_count": 4,
   "metadata": {},
   "outputs": [],
   "source": [
    "class SimpleNet(nn.Module):\n",
    "    def __init__(self):\n",
    "        super().__init__()\n",
    "        self.linear1 = nn.Linear(5,10)\n",
    "        self.linear2 = nn.Linear(10,2)\n",
    "    \n",
    "    def forward(self,x):\n",
    "        out_1 = self.linear1(x)\n",
    "        out_2 = F.relu(out_1)\n",
    "        out_3 = self.linear2(out_2)\n",
    "        return out_3"
   ]
  },
  {
   "cell_type": "code",
   "execution_count": 6,
   "metadata": {},
   "outputs": [],
   "source": [
    "model = SimpleNet()"
   ]
  },
  {
   "cell_type": "markdown",
   "metadata": {},
   "source": [
    "model.parameters() 是一个生成器（iterator），它返回模型中所有 参数\n",
    "\n",
    "一定要把输入输出搞清楚，别搞混\n",
    "\n",
    "linear(5,10)的意思不是说，要你输入一个(5,10)形状的tensor，而是说输入一个5维的tensor，所以这个向量是(3,5),(4,5)(1,2,4,5)都无所谓，只要最后一个数是5，即5个特征即可。\n",
    "\n",
    "输出是10维的tensor。  \n",
    "总的来说，输入（batch，5），输出（batch，10）\n",
    "\n",
    "那么里面的权重长啥样？\n",
    "\n",
    "一个经典的公式\n",
    "\n",
    "$$ output=input⋅weight^T+bias $$\n",
    "\n",
    "input是（batch，5）\n",
    "\n",
    "那权重的专置就是（5，10）\n",
    "\n",
    "那weight就是（10，5）\n",
    "\n",
    "咦，那为什么不直接将weight设为（5，10）呢\n",
    "\n",
    "当然可以，tensorflow框架就是这么干的，我们pytorch选择\n",
    "[out_features, in_features]的形式，\n",
    "有个好处，\n",
    "\n",
    "一共10个输出神经元\n",
    "就是第i行为第i个输出神经元的权重\n"
   ]
  },
  {
   "cell_type": "code",
   "execution_count": 15,
   "metadata": {},
   "outputs": [
    {
     "name": "stdout",
     "output_type": "stream",
     "text": [
      "[Parameter containing:\n",
      "tensor([[ 0.3245,  0.0128,  0.3166, -0.2784, -0.3144],\n",
      "        [-0.0809,  0.2010, -0.3917, -0.3973,  0.1925],\n",
      "        [ 0.4091, -0.1493, -0.2874, -0.3728,  0.4152],\n",
      "        [ 0.2080,  0.2353, -0.2766,  0.3726, -0.2846],\n",
      "        [-0.2944,  0.1768, -0.2505, -0.4450,  0.0229],\n",
      "        [ 0.0846, -0.1356,  0.0597,  0.1093, -0.0244],\n",
      "        [-0.3801,  0.2351, -0.3752, -0.0908,  0.2574],\n",
      "        [ 0.2458, -0.1102,  0.0438,  0.1022,  0.3519],\n",
      "        [-0.1163, -0.0774,  0.0151,  0.1418,  0.4438],\n",
      "        [ 0.2660, -0.0664,  0.1581,  0.1654,  0.1135]], requires_grad=True), Parameter containing:\n",
      "tensor([-0.2486,  0.1016,  0.1948,  0.0307, -0.1925, -0.0721, -0.2754,  0.3172,\n",
      "         0.3310, -0.2632], requires_grad=True), Parameter containing:\n",
      "tensor([[ 0.2031,  0.0994,  0.0452, -0.2744, -0.0027, -0.2556,  0.1908, -0.2535,\n",
      "         -0.0672,  0.0913],\n",
      "        [-0.2372, -0.3128,  0.1345, -0.1422,  0.1206, -0.0141,  0.2888,  0.1766,\n",
      "         -0.2446, -0.1081]], requires_grad=True), Parameter containing:\n",
      "tensor([ 0.2913, -0.1052], requires_grad=True)]\n"
     ]
    }
   ],
   "source": [
    "print(list(model.parameters()))"
   ]
  },
  {
   "cell_type": "code",
   "execution_count": 7,
   "metadata": {},
   "outputs": [
    {
     "data": {
      "text/plain": [
       "SimpleNet(\n",
       "  (linear1): Linear(in_features=5, out_features=10, bias=True)\n",
       "  (linear2): Linear(in_features=10, out_features=2, bias=True)\n",
       ")"
      ]
     },
     "execution_count": 7,
     "metadata": {},
     "output_type": "execute_result"
    }
   ],
   "source": [
    "model"
   ]
  },
  {
   "cell_type": "code",
   "execution_count": 10,
   "metadata": {},
   "outputs": [
    {
     "data": {
      "text/plain": [
       "tensor([[ 0.1304, -0.1617],\n",
       "        [ 0.3786, -0.2186],\n",
       "        [-0.0996, -0.1704],\n",
       "        [ 0.4627, -0.2185]], grad_fn=<AddmmBackward0>)"
      ]
     },
     "execution_count": 10,
     "metadata": {},
     "output_type": "execute_result"
    }
   ],
   "source": [
    "model(X)"
   ]
  },
  {
   "cell_type": "markdown",
   "metadata": {},
   "source": [
    "# 定义优化器"
   ]
  },
  {
   "cell_type": "markdown",
   "metadata": {},
   "source": [
    "有哪些参数需要更新呢？\n"
   ]
  },
  {
   "cell_type": "code",
   "execution_count": 13,
   "metadata": {},
   "outputs": [
    {
     "name": "stdout",
     "output_type": "stream",
     "text": [
      "linear1.weight\n",
      "linear1.bias\n",
      "linear2.weight\n",
      "linear2.bias\n"
     ]
    }
   ],
   "source": [
    "for name, param in model.named_parameters():\n",
    "    if param.requires_grad:\n",
    "        print(name)"
   ]
  },
  {
   "cell_type": "code",
   "execution_count": 16,
   "metadata": {},
   "outputs": [],
   "source": [
    "optimizer = optim.AdamW(model.parameters(),lr=0.01)"
   ]
  },
  {
   "cell_type": "markdown",
   "metadata": {},
   "source": [
    "# 开始训练"
   ]
  },
  {
   "cell_type": "code",
   "execution_count": 17,
   "metadata": {},
   "outputs": [],
   "source": [
    "Y_pred = model(X)"
   ]
  },
  {
   "cell_type": "code",
   "execution_count": 18,
   "metadata": {},
   "outputs": [
    {
     "data": {
      "text/plain": [
       "tensor([[ 0.1304, -0.1617],\n",
       "        [ 0.3786, -0.2186],\n",
       "        [-0.0996, -0.1704],\n",
       "        [ 0.4627, -0.2185]], grad_fn=<AddmmBackward0>)"
      ]
     },
     "execution_count": 18,
     "metadata": {},
     "output_type": "execute_result"
    }
   ],
   "source": [
    "Y_pred"
   ]
  },
  {
   "cell_type": "code",
   "execution_count": 20,
   "metadata": {},
   "outputs": [
    {
     "data": {
      "text/plain": [
       "tensor(0.2985, grad_fn=<MseLossBackward0>)"
      ]
     },
     "execution_count": 20,
     "metadata": {},
     "output_type": "execute_result"
    }
   ],
   "source": [
    "loss_fn = nn.MSELoss()\n",
    "loss = loss_fn(Y_pred,Y)\n",
    "loss"
   ]
  },
  {
   "cell_type": "code",
   "execution_count": 21,
   "metadata": {},
   "outputs": [],
   "source": [
    "loss.backward()"
   ]
  },
  {
   "cell_type": "code",
   "execution_count": 22,
   "metadata": {},
   "outputs": [
    {
     "name": "stdout",
     "output_type": "stream",
     "text": [
      "linear1.weight.grad: mean=0.0099, std=0.0660\n",
      "linear1.bias.grad: mean=0.0019, std=0.0398\n",
      "linear2.weight.grad: mean=0.0244, std=0.1749\n",
      "linear2.bias.grad: mean=0.0426, std=0.2522\n"
     ]
    }
   ],
   "source": [
    "for name, param in model.named_parameters():\n",
    "    if param.requires_grad:\n",
    "        print(f\"{name}.grad: mean={param.grad.mean().item():.4f}, std={param.grad.std().item():.4f}\")"
   ]
  },
  {
   "cell_type": "code",
   "execution_count": 23,
   "metadata": {},
   "outputs": [],
   "source": [
    "optimizer.step()"
   ]
  },
  {
   "cell_type": "markdown",
   "metadata": {},
   "source": [
    "初始化时，我们希望权重的 mean ≈ 0，\n",
    "std 在合适范围（如 Xavier/He 初始化）\n",
    "训练中，如果 mean 疯狂增长 → 可能发散\n",
    "如果 mean 一直不动 → 可能没学到东西\n",
    "📌 所以 mean 是一个“健康指标”，帮助你判断参数是否在合理范围内变化。 "
   ]
  },
  {
   "cell_type": "code",
   "execution_count": 24,
   "metadata": {},
   "outputs": [
    {
     "name": "stdout",
     "output_type": "stream",
     "text": [
      "\n",
      "=== optimizer.step() 后（参数已更新）===\n",
      "linear1.weight: mean=0.0090, std=0.2535\n",
      "linear1.bias: mean=-0.0107, std=0.2392\n",
      "linear2.weight: mean=-0.0271, std=0.1905\n",
      "linear2.bias: mean=0.0930, std=0.2945\n"
     ]
    }
   ],
   "source": [
    "print(\"\\n=== optimizer.step() 后（参数已更新）===\")\n",
    "for name, param in model.named_parameters():\n",
    "    if param.requires_grad:\n",
    "        print(f\"{name}: mean={param.data.mean().item():.4f}, std={param.data.std().item():.4f}\")\n"
   ]
  },
  {
   "cell_type": "code",
   "execution_count": 25,
   "metadata": {},
   "outputs": [],
   "source": [
    "optimizer.zero_grad()"
   ]
  },
  {
   "cell_type": "markdown",
   "metadata": {},
   "source": [
    "一次训练就结束了"
   ]
  },
  {
   "cell_type": "markdown",
   "metadata": {},
   "source": [
    "那我们进行多次训练\n",
    "模型训练后 权重就无法改变了。  \n",
    "\n",
    "所以说 如果你重复运行这个训练代码 loss会越来越低 每次都比上次运行低"
   ]
  },
  {
   "cell_type": "code",
   "execution_count": 35,
   "metadata": {},
   "outputs": [
    {
     "name": "stdout",
     "output_type": "stream",
     "text": [
      "Step 0: grad_mean=-0.000005, grad_std=0.000057\n",
      "Step 1: grad_mean=-0.000004, grad_std=0.000059\n",
      "Step 2: grad_mean=-0.000002, grad_std=0.000060\n",
      "Step 3: grad_mean=0.000000, grad_std=0.000061\n",
      "Step 4: grad_mean=0.000001, grad_std=0.000058\n",
      "Step 5: grad_mean=-0.000000, grad_std=0.000051\n",
      "Step 6: grad_mean=-0.000003, grad_std=0.000042\n",
      "Step 7: grad_mean=-0.000007, grad_std=0.000037\n",
      "Step 8: grad_mean=-0.000010, grad_std=0.000040\n",
      "Step 9: grad_mean=-0.000012, grad_std=0.000045\n",
      "Step 10: grad_mean=-0.000012, grad_std=0.000048\n",
      "Step 11: grad_mean=-0.000010, grad_std=0.000046\n",
      "Step 12: grad_mean=-0.000007, grad_std=0.000043\n",
      "Step 13: grad_mean=-0.000004, grad_std=0.000039\n",
      "Step 14: grad_mean=-0.000002, grad_std=0.000037\n",
      "Step 15: grad_mean=-0.000002, grad_std=0.000034\n",
      "Step 16: grad_mean=-0.000003, grad_std=0.000030\n",
      "Step 17: grad_mean=-0.000005, grad_std=0.000027\n",
      "Step 18: grad_mean=-0.000007, grad_std=0.000028\n",
      "Step 19: grad_mean=-0.000008, grad_std=0.000031\n"
     ]
    },
    {
     "data": {
      "image/png": "[encoded data removed]",
      "text/plain": [
       "<Figure size 640x480 with 1 Axes>"
      ]
     },
     "metadata": {},
     "output_type": "display_data"
    }
   ],
   "source": [
    "import matplotlib.pyplot as plt\n",
    "\n",
    "# 存储历史\n",
    "weight_means = []\n",
    "grad_means = []\n",
    "\n",
    "for step in range(20):\n",
    "    # 前向\n",
    "    y_pred = model(X)\n",
    "    loss = nn.MSELoss()(y_pred, Y)\n",
    "\n",
    "    # 反向\n",
    "    optimizer.zero_grad()  # 清零（\n",
    "    loss.backward()\n",
    "\n",
    "    # 打印 linear1 的梯度大小\n",
    "    grad_mean = model.linear1.weight.grad.mean().item()\n",
    "    grad_std = model.linear1.weight.grad.std().item()\n",
    "    print(f\"Step {step}: grad_mean={grad_mean:.6f}, grad_std={grad_std:.6f}\")\n",
    "\n",
    "    weight_mean = model.linear1.weight.data.mean().item()\n",
    "    grad_mean = model.linear1.weight.grad.data.mean().item()\n",
    "\n",
    "    weight_means.append(weight_mean)\n",
    "    grad_means.append(grad_mean)\n",
    "\n",
    "    # 更新\n",
    "    optimizer.step()\n",
    "\n",
    "# 画图\n",
    "plt.plot(weight_means, label=\"linear1.weight - Mean\")\n",
    "plt.plot(grad_means, label=\"linear1.weight.grad - Mean\", linestyle='--')\n",
    "plt.xlabel(\"Step\")\n",
    "plt.ylabel(\"Value\")\n",
    "plt.title(\"Parameter & Gradient Evolution\")\n",
    "plt.legend()\n",
    "plt.grid(True)\n",
    "plt.show()"
   ]
  }
 ],
 "metadata": {
  "kernelspec": {
   "display_name": "gpu",
   "language": "python",
   "name": "python3"
  },
  "language_info": {
   "codemirror_mode": {
    "name": "ipython",
    "version": 3
   },
   "file_extension": ".py",
   "mimetype": "text/x-python",
   "name": "python",
   "nbconvert_exporter": "python",
   "pygments_lexer": "ipython3",
   "version": "3.10.16"
  }
 },
 "nbformat": 4,
 "nbformat_minor": 2
}
