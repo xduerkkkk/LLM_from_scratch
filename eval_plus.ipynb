{
 "cells": [
  {
   "cell_type": "code",
   "execution_count": 1,
   "metadata": {},
   "outputs": [],
   "source": [
    "import os\n",
    "import lm_eval\n",
    "from lm_eval import evaluator, tasks\n",
    "from lm_eval.models.huggingface import HFLM # 确保导入 HFLM 以使用 hf 模型类型\n",
    "\n",
    "# --- 配置 ---\n",
    "# 1. 设置你的 Hugging Face Token (如果模型需要)\n",
    "# 确保环境变量 HF_TOKEN 已设置，或者在这里设置（不推荐硬编码）\n",
    "# os.environ['HF_TOKEN'] = 'your_hf_token_here'\n",
    "\n",
    "# 2. 指定模型 ID\n",
    "model_id = \"Qwen/Qwen2.5-7B\" # Hugging Face 路径\n",
    "#local_path = ''\n",
    "\n",
    "# 3. 指定要评测的任务\n",
    "\n",
    "tasks_to_evaluate = [\"ceval-valid_marxism\"]\n",
    "\n",
    "# 4. 其他参数\n",
    "# 批处理大小\n",
    "batch_size = 4 # 根据你的 GPU 内存调整\n",
    "# 设备 (cuda, cpu, mps)\n",
    "device = \"cuda:0\" # 根据你的环境调整\n",
    "# 输出路径 (可选，用于保存结果)\n",
    "output_path = \"./qwen2.5_7b_ceval_results.json\""
   ]
  },
  {
   "cell_type": "code",
   "execution_count": 3,
   "metadata": {},
   "outputs": [
    {
     "name": "stdout",
     "output_type": "stream",
     "text": [
      "Starting evaluation of Qwen/Qwen2.5-7B on tasks: ['ceval-valid']\n"
     ]
    },
    {
     "data": {
      "application/vnd.jupyter.widget-view+json": {
       "model_id": "0d31be79251e45f590b848edd1cf8777",
       "version_major": 2,
       "version_minor": 0
      },
      "text/plain": [
       "config.json:   0%|          | 0.00/686 [00:00<?, ?B/s]"
      ]
     },
     "metadata": {},
     "output_type": "display_data"
    },
    {
     "data": {
      "application/vnd.jupyter.widget-view+json": {
       "model_id": "8b16187237fc48e796cdd55e63e58ef0",
       "version_major": 2,
       "version_minor": 0
      },
      "text/plain": [
       "tokenizer_config.json: 0.00B [00:00, ?B/s]"
      ]
     },
     "metadata": {},
     "output_type": "display_data"
    },
    {
     "data": {
      "application/vnd.jupyter.widget-view+json": {
       "model_id": "12f02c362a684a46a7302b487f444786",
       "version_major": 2,
       "version_minor": 0
      },
      "text/plain": [
       "vocab.json: 0.00B [00:00, ?B/s]"
      ]
     },
     "metadata": {},
     "output_type": "display_data"
    },
    {
     "data": {
      "application/vnd.jupyter.widget-view+json": {
       "model_id": "711e71d9b4a946c5836e402b79bf6db2",
       "version_major": 2,
       "version_minor": 0
      },
      "text/plain": [
       "merges.txt: 0.00B [00:00, ?B/s]"
      ]
     },
     "metadata": {},
     "output_type": "display_data"
    },
    {
     "data": {
      "application/vnd.jupyter.widget-view+json": {
       "model_id": "0cb81ec447ea41188aff8b02b0678f43",
       "version_major": 2,
       "version_minor": 0
      },
      "text/plain": [
       "tokenizer.json: 0.00B [00:00, ?B/s]"
      ]
     },
     "metadata": {},
     "output_type": "display_data"
    },
    {
     "data": {
      "application/vnd.jupyter.widget-view+json": {
       "model_id": "2d3843b485d64b37a478857d5b6d07b6",
       "version_major": 2,
       "version_minor": 0
      },
      "text/plain": [
       "model.safetensors.index.json: 0.00B [00:00, ?B/s]"
      ]
     },
     "metadata": {},
     "output_type": "display_data"
    },
    {
     "data": {
      "application/vnd.jupyter.widget-view+json": {
       "model_id": "f519c4df9e774ae9af66753a253cde63",
       "version_major": 2,
       "version_minor": 0
      },
      "text/plain": [
       "Fetching 4 files:   0%|          | 0/4 [00:00<?, ?it/s]"
      ]
     },
     "metadata": {},
     "output_type": "display_data"
    },
    {
     "name": "stderr",
     "output_type": "stream",
     "text": [
      "Xet Storage is enabled for this repo, but the 'hf_xet' package is not installed. Falling back to regular HTTP download. For better performance, install the package with: `pip install huggingface_hub[hf_xet]` or `pip install hf_xet`\n",
      "Xet Storage is enabled for this repo, but the 'hf_xet' package is not installed. Falling back to regular HTTP download. For better performance, install the package with: `pip install huggingface_hub[hf_xet]` or `pip install hf_xet`\n",
      "Xet Storage is enabled for this repo, but the 'hf_xet' package is not installed. Falling back to regular HTTP download. For better performance, install the package with: `pip install huggingface_hub[hf_xet]` or `pip install hf_xet`\n",
      "Xet Storage is enabled for this repo, but the 'hf_xet' package is not installed. Falling back to regular HTTP download. For better performance, install the package with: `pip install huggingface_hub[hf_xet]` or `pip install hf_xet`\n"
     ]
    },
    {
     "data": {
      "application/vnd.jupyter.widget-view+json": {
       "model_id": "739a5823ca0d4cadb86d2485c1579a7c",
       "version_major": 2,
       "version_minor": 0
      },
      "text/plain": [
       "model-00004-of-00004.safetensors:   0%|          | 0.00/3.56G [00:00<?, ?B/s]"
      ]
     },
     "metadata": {},
     "output_type": "display_data"
    },
    {
     "data": {
      "application/vnd.jupyter.widget-view+json": {
       "model_id": "9d288470193c4d22a5b520543d155519",
       "version_major": 2,
       "version_minor": 0
      },
      "text/plain": [
       "model-00002-of-00004.safetensors:   0%|          | 0.00/3.86G [00:00<?, ?B/s]"
      ]
     },
     "metadata": {},
     "output_type": "display_data"
    },
    {
     "data": {
      "application/vnd.jupyter.widget-view+json": {
       "model_id": "73afff55098546e7ae7b9decc43586b4",
       "version_major": 2,
       "version_minor": 0
      },
      "text/plain": [
       "model-00001-of-00004.safetensors:   0%|          | 0.00/3.95G [00:00<?, ?B/s]"
      ]
     },
     "metadata": {},
     "output_type": "display_data"
    },
    {
     "data": {
      "application/vnd.jupyter.widget-view+json": {
       "model_id": "f78be1054fee42ce895cafe469aa1303",
       "version_major": 2,
       "version_minor": 0
      },
      "text/plain": [
       "model-00003-of-00004.safetensors:   0%|          | 0.00/3.86G [00:00<?, ?B/s]"
      ]
     },
     "metadata": {},
     "output_type": "display_data"
    }
   ],
   "source": [
    "model_args = f\"pretrained={model_id},dtype=float16,parallelize=True\" # 示例，根据需要调整\n",
    "# model_args = f\"pretrained={local_path},dtype=float16,parallelize=True\" \n",
    "\n",
    "# --- 执行评测 ---\n",
    "print(f\"Starting evaluation of {model_id} on tasks: {tasks_to_evaluate}\")\n",
    "\n",
    "try:\n",
    "    results = evaluator.simple_evaluate(\n",
    "        model=\"hf\", # 使用 Hugging Face 模型\n",
    "        model_args=model_args, # 传递模型参数\n",
    "        tasks=tasks_to_evaluate, # 指定任务\n",
    "        batch_size=batch_size, # 设置批处理大小\n",
    "        device=device, # 指定设备\n",
    "        # limit=10, # 可选：仅运行每个任务的前 N 个样本，用于测试\n",
    "    )\n",
    "\n",
    "    # --- 打印和保存结果 ---\n",
    "    print(evaluator.make_table(results)) # 在控制台打印结果表格\n",
    "\n",
    "    if output_path:\n",
    "        import json\n",
    "        # 保存完整结果到 JSON 文件\n",
    "        with open(output_path, \"w\", encoding=\"utf-8\") as f:\n",
    "            json.dump(results, f, indent=2, ensure_ascii=False)\n",
    "        print(f\"\\nResults saved to {output_path}\")\n",
    "except Exception as e:\n",
    "    print(f\"An error occurred during evaluation: {e}\")\n",
    "    import traceback\n",
    "    traceback.print_exc()"
   ]
  }
 ],
 "metadata": {
  "kernelspec": {
   "display_name": "gpu",
   "language": "python",
   "name": "python3"
  },
  "language_info": {
   "codemirror_mode": {
    "name": "ipython",
    "version": 3
   },
   "file_extension": ".py",
   "mimetype": "text/x-python",
   "name": "python",
   "nbconvert_exporter": "python",
   "pygments_lexer": "ipython3",
   "version": "3.10.16"
  }
 },
 "nbformat": 4,
 "nbformat_minor": 2
}
