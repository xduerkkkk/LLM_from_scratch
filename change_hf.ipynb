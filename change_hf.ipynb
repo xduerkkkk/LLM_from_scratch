{
 "cells": [
  {
   "cell_type": "code",
   "execution_count": 1,
   "metadata": {},
   "outputs": [],
   "source": [
    "import torch\n",
    "import os\n",
    "from model.model_minimind import MiniMindConfig, MiniMindForCausalLM # 导入你的模型类\n",
    "from transformers import AutoTokenizer\n",
    "import lm_eval\n",
    "import json\n",
    "import os\n",
    "# 1. 定义配置和模型保存路径\n",
    "save_directory = \"my_pretrain_model_hf\" # 这是你最终要创建的HF标准模型目录\n",
    "checkpoint_path = \"./pretrain_output/latest_checkpoint.pth\"\n",
    "\n",
    "# 2. 像加载模型进行推理一样，先创建一个模型实例\n",
    "#    你需要知道这个checkpoint对应的配置\n",
    "config = MiniMindConfig(hidden_size=512, num_hidden_layers=8, use_moe=True) # 假设配置\n",
    "model = MiniMindForCausalLM(config)\n",
    "\n"
   ]
  },
  {
   "cell_type": "code",
   "execution_count": 8,
   "metadata": {},
   "outputs": [],
   "source": [
    "save_directory = \"my_pretrain_model_hf\""
   ]
  },
  {
   "cell_type": "code",
   "execution_count": 2,
   "metadata": {},
   "outputs": [],
   "source": [
    "tokenizer = AutoTokenizer.from_pretrained('model')"
   ]
  },
  {
   "cell_type": "code",
   "execution_count": 3,
   "metadata": {},
   "outputs": [],
   "source": [
    "class TrainArgs():\n",
    "    #文件管理\n",
    "    out_dir = './pretrain_output'\n",
    "    checkpoint_path = \"./pretrain_output/latest_checkpoint.pth\"\n",
    "    data_path = 'data/pretrain_hq.jsonl'\n",
    "    #神经网络训练管理\n",
    "    epochs = 2\n",
    "    batch_size = 32\n",
    "    accumulation_steps = 4\n",
    "    learning_rate = 5e-4\n",
    "    warm_up = 0\n",
    "    grad_clip = 1\n",
    "    dtype = 'bfloat16'\n",
    "    device = \"cuda:0\" if torch.cuda.is_available() else \"cpu\"\n",
    "    num_workers = min(8, os.cpu_count()) \n",
    "    log_interval = 50\n",
    "    save_interval = 2000"
   ]
  },
  {
   "cell_type": "code",
   "execution_count": 4,
   "metadata": {},
   "outputs": [
    {
     "name": "stdout",
     "output_type": "stream",
     "text": [
      "Loading checkpoint from: ./pretrain_output/latest_checkpoint.pth\n"
     ]
    },
    {
     "name": "stderr",
     "output_type": "stream",
     "text": [
      "C:\\Users\\kkkkkk\\AppData\\Local\\Temp\\ipykernel_25652\\4223357027.py:3: FutureWarning: You are using `torch.load` with `weights_only=False` (the current default value), which uses the default pickle module implicitly. It is possible to construct malicious pickle data which will execute arbitrary code during unpickling (See https://github.com/pytorch/pytorch/blob/main/SECURITY.md#untrusted-models for more details). In a future release, the default value for `weights_only` will be flipped to `True`. This limits the functions that could be executed during unpickling. Arbitrary objects will no longer be allowed to be loaded via this mode unless they are explicitly allowlisted by the user via `torch.serialization.add_safe_globals`. We recommend you start setting `weights_only=True` for any use case where you don't have full control of the loaded file. Please open an issue on GitHub for any issues related to this experimental feature.\n",
      "  checkpoint = torch.load(checkpoint_path, map_location='cpu') # 加载到cpu，更通用\n"
     ]
    }
   ],
   "source": [
    "# 3. 加载你训练好的checkpoint\n",
    "print(f\"Loading checkpoint from: {checkpoint_path}\")\n",
    "checkpoint = torch.load(checkpoint_path, map_location='cpu') # 加载到cpu，更通用\n"
   ]
  },
  {
   "cell_type": "code",
   "execution_count": 5,
   "metadata": {},
   "outputs": [
    {
     "name": "stdout",
     "output_type": "stream",
     "text": [
      "Model loaded successfully!\n"
     ]
    }
   ],
   "source": [
    "# 4. 提取并加载模型权重 (state_dict)\n",
    "model_state_dict = checkpoint['model']\n",
    "# 如果权重是半精度的，最好转回全精度以保证兼容性\n",
    "\n",
    "\n",
    "model.load_state_dict(model_state_dict)\n",
    "\n",
    "print(\"Model loaded successfully!\")"
   ]
  },
  {
   "cell_type": "code",
   "execution_count": 9,
   "metadata": {},
   "outputs": [
    {
     "name": "stdout",
     "output_type": "stream",
     "text": [
      "Model saved in Hugging Face format to: my_pretrain_model_hf\n"
     ]
    }
   ],
   "source": [
    "os.makedirs(save_directory, exist_ok=True)\n",
    "\n",
    "# 5. 调用 save_pretrained\n",
    "#    这个方法会自动为我们完成所有打包工作！\n",
    "model.save_pretrained(\n",
    "    save_directory,\n",
    "    safe_serialization=True # 推荐使用safetensors格式，更安全、加载更快\n",
    ")\n",
    "\n",
    "print(f\"Model saved in Hugging Face format to: {save_directory}\")"
   ]
  },
  {
   "cell_type": "code",
   "execution_count": 10,
   "metadata": {},
   "outputs": [
    {
     "data": {
      "text/plain": [
       "('my_pretrain_model_hf\\\\tokenizer_config.json',\n",
       " 'my_pretrain_model_hf\\\\special_tokens_map.json',\n",
       " 'my_pretrain_model_hf\\\\chat_template.jinja',\n",
       " 'my_pretrain_model_hf\\\\tokenizer.json')"
      ]
     },
     "execution_count": 10,
     "metadata": {},
     "output_type": "execute_result"
    }
   ],
   "source": [
    "tokenizer.save_pretrained(save_directory)"
   ]
  }
 ],
 "metadata": {
  "kernelspec": {
   "display_name": "gpu",
   "language": "python",
   "name": "python3"
  },
  "language_info": {
   "codemirror_mode": {
    "name": "ipython",
    "version": 3
   },
   "file_extension": ".py",
   "mimetype": "text/x-python",
   "name": "python",
   "nbconvert_exporter": "python",
   "pygments_lexer": "ipython3",
   "version": "3.10.16"
  }
 },
 "nbformat": 4,
 "nbformat_minor": 2
}
