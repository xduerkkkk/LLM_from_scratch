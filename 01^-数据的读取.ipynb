{
 "cells": [
  {
   "cell_type": "markdown",
   "metadata": {},
   "source": [
    "# json与jsonl的读取"
   ]
  },
  {
   "cell_type": "code",
   "execution_count": 2,
   "metadata": {},
   "outputs": [],
   "source": [
    "import json\n",
    "import jsonlines\n",
    "import itertools"
   ]
  },
  {
   "cell_type": "markdown",
   "metadata": {},
   "source": [
    "创建01*test.json文件，将下一行数据粘贴到文件里\n",
    "\n",
    "{ \"id\": 1, \"name\": \"Alice\", \"age\": 30, \"city\": \"Beijing\" }"
   ]
  },
  {
   "cell_type": "code",
   "execution_count": 3,
   "metadata": {},
   "outputs": [
    {
     "data": {
      "text/plain": [
       "{'id': 1, 'name': 'Alice', 'age': 30, 'city': 'Beijing'}"
      ]
     },
     "execution_count": 3,
     "metadata": {},
     "output_type": "execute_result"
    }
   ],
   "source": [
    "import json\n",
    "with open('01*test.json', 'r', encoding='utf-8') as f:\n",
    "    data = json.load(f)\n",
    "data"
   ]
  },
  {
   "cell_type": "markdown",
   "metadata": {},
   "source": [
    "此时json为\n",
    "{ \"id\": 1, \"name\": \"Alice\", \"age\": 30, \"city\": \"Beijing\" }, { \"id\": 2, \"name\": \"Bob\", \"age\": 25, \"city\": \"Shanghai\" }, \n",
    "{ \"id\": 3, \"name\": \"Charlie\", \"age\": 28, \"city\": \"Guangzhou\" }\n",
    "此时json文件自身就已经报错了\n",
    "加载呢？"
   ]
  },
  {
   "cell_type": "code",
   "execution_count": 3,
   "metadata": {},
   "outputs": [
    {
     "ename": "OSError",
     "evalue": "[Errno 22] Invalid argument: '01*test.json'",
     "output_type": "error",
     "traceback": [
      "\u001b[1;31m---------------------------------------------------------------------------\u001b[0m",
      "\u001b[1;31mOSError\u001b[0m                                   Traceback (most recent call last)",
      "Cell \u001b[1;32mIn[3], line 1\u001b[0m\n\u001b[1;32m----> 1\u001b[0m \u001b[38;5;28;01mwith\u001b[39;00m \u001b[38;5;28;43mopen\u001b[39;49m\u001b[43m(\u001b[49m\u001b[38;5;124;43m'\u001b[39;49m\u001b[38;5;124;43m01*test.json\u001b[39;49m\u001b[38;5;124;43m'\u001b[39;49m\u001b[43m,\u001b[49m\u001b[43m \u001b[49m\u001b[38;5;124;43m'\u001b[39;49m\u001b[38;5;124;43mr\u001b[39;49m\u001b[38;5;124;43m'\u001b[39;49m\u001b[43m,\u001b[49m\u001b[43m \u001b[49m\u001b[43mencoding\u001b[49m\u001b[38;5;241;43m=\u001b[39;49m\u001b[38;5;124;43m'\u001b[39;49m\u001b[38;5;124;43mutf-8\u001b[39;49m\u001b[38;5;124;43m'\u001b[39;49m\u001b[43m)\u001b[49m \u001b[38;5;28;01mas\u001b[39;00m f:\n\u001b[0;32m      2\u001b[0m     data \u001b[38;5;241m=\u001b[39m json\u001b[38;5;241m.\u001b[39mload(f)\n\u001b[0;32m      3\u001b[0m data\n",
      "File \u001b[1;32me:\\ai\\anaconda\\envs\\gpu\\lib\\site-packages\\IPython\\core\\interactiveshell.py:284\u001b[0m, in \u001b[0;36m_modified_open\u001b[1;34m(file, *args, **kwargs)\u001b[0m\n\u001b[0;32m    277\u001b[0m \u001b[38;5;28;01mif\u001b[39;00m file \u001b[38;5;129;01min\u001b[39;00m {\u001b[38;5;241m0\u001b[39m, \u001b[38;5;241m1\u001b[39m, \u001b[38;5;241m2\u001b[39m}:\n\u001b[0;32m    278\u001b[0m     \u001b[38;5;28;01mraise\u001b[39;00m \u001b[38;5;167;01mValueError\u001b[39;00m(\n\u001b[0;32m    279\u001b[0m         \u001b[38;5;124mf\u001b[39m\u001b[38;5;124m\"\u001b[39m\u001b[38;5;124mIPython won\u001b[39m\u001b[38;5;124m'\u001b[39m\u001b[38;5;124mt let you open fd=\u001b[39m\u001b[38;5;132;01m{\u001b[39;00mfile\u001b[38;5;132;01m}\u001b[39;00m\u001b[38;5;124m by default \u001b[39m\u001b[38;5;124m\"\u001b[39m\n\u001b[0;32m    280\u001b[0m         \u001b[38;5;124m\"\u001b[39m\u001b[38;5;124mas it is likely to crash IPython. If you know what you are doing, \u001b[39m\u001b[38;5;124m\"\u001b[39m\n\u001b[0;32m    281\u001b[0m         \u001b[38;5;124m\"\u001b[39m\u001b[38;5;124myou can use builtins\u001b[39m\u001b[38;5;124m'\u001b[39m\u001b[38;5;124m open.\u001b[39m\u001b[38;5;124m\"\u001b[39m\n\u001b[0;32m    282\u001b[0m     )\n\u001b[1;32m--> 284\u001b[0m \u001b[38;5;28;01mreturn\u001b[39;00m io_open(file, \u001b[38;5;241m*\u001b[39margs, \u001b[38;5;241m*\u001b[39m\u001b[38;5;241m*\u001b[39mkwargs)\n",
      "\u001b[1;31mOSError\u001b[0m: [Errno 22] Invalid argument: '01*test.json'"
     ]
    }
   ],
   "source": [
    "with open('01*test.json', 'r', encoding='utf-8') as f:\n",
    "    data = json.load(f)\n",
    "data"
   ]
  },
  {
   "cell_type": "markdown",
   "metadata": {},
   "source": [
    "加载自然也会报错\n",
    "修改一下格式\n",
    "\n",
    "[ \n",
    "{ \"id\": 1, \"name\": \"Alice\", \"age\": 30, \"city\": \"Beijing\" }, { \"id\": 2, \"name\": \"Bob\", \"age\": 25, \"city\": \"Shanghai\" }, \n",
    "{ \"id\": 3, \"name\": \"Charlie\", \"age\": 28, \"city\": \"Guangzhou\" } \n",
    "]"
   ]
  },
  {
   "cell_type": "code",
   "execution_count": 5,
   "metadata": {},
   "outputs": [
    {
     "data": {
      "text/plain": [
       "[{'id': 1, 'name': 'Alice', 'age': 30, 'city': 'Beijing'},\n",
       " {'id': 2, 'name': 'Bob', 'age': 25, 'city': 'Shanghai'},\n",
       " {'id': 3, 'name': 'Charlie', 'age': 28, 'city': 'Guangzhou'}]"
      ]
     },
     "execution_count": 5,
     "metadata": {},
     "output_type": "execute_result"
    }
   ],
   "source": [
    "with open('01^test.json', 'r', encoding='utf-8') as f:\n",
    "    data = json.load(f)\n",
    "data"
   ]
  },
  {
   "cell_type": "markdown",
   "metadata": {},
   "source": [
    "使用json.dump可以写入json"
   ]
  },
  {
   "cell_type": "code",
   "execution_count": 6,
   "metadata": {},
   "outputs": [],
   "source": [
    "with open('01^output.json', 'w', encoding='utf-8') as f:\n",
    "    json.dump(data, f, ensure_ascii=False, indent=2)"
   ]
  },
  {
   "cell_type": "markdown",
   "metadata": {},
   "source": [
    "记得我们报错的数据吗\n",
    "如果把文件后缀改为jsonl \n",
    "文件这次不报错了\n",
    "但我们加载要换方式了"
   ]
  },
  {
   "cell_type": "code",
   "execution_count": 14,
   "metadata": {},
   "outputs": [
    {
     "data": {
      "text/plain": [
       "[{'id': 1, 'name': 'Alice', 'age': 30, 'city': 'Beijing'},\n",
       " {'id': 2, 'name': 'Bob', 'age': 25, 'city': 'Shanghai'},\n",
       " {'id': 3, 'name': 'Charlie', 'age': 28, 'city': 'Guangzhou'}]"
      ]
     },
     "execution_count": 14,
     "metadata": {},
     "output_type": "execute_result"
    }
   ],
   "source": [
    "data = []\n",
    "with open('01^test.jsonl','r',encoding='utf-8') as f:\n",
    "    for line in f:\n",
    "        line = json.loads(line) \n",
    "        data.append(line)\n",
    "\n",
    "data\n"
   ]
  },
  {
   "cell_type": "markdown",
   "metadata": {},
   "source": [
    "思考一下，json.load\n",
    "和json.loads有什么区别呢"
   ]
  },
  {
   "cell_type": "markdown",
   "metadata": {},
   "source": [
    "当然也有jsonlines "
   ]
  },
  {
   "cell_type": "code",
   "execution_count": 6,
   "metadata": {},
   "outputs": [
    {
     "data": {
      "text/plain": [
       "<jsonlines.Reader at 0x2d3dd19e410 wrapping '01^test.jsonl'>"
      ]
     },
     "execution_count": 6,
     "metadata": {},
     "output_type": "execute_result"
    }
   ],
   "source": [
    "import jsonlines\n",
    "with jsonlines.open('01^test.jsonl') as reader:\n",
    "    data = reader\n",
    "data"
   ]
  },
  {
   "cell_type": "markdown",
   "metadata": {},
   "source": [
    "但这样的话，data只是个迭代器"
   ]
  },
  {
   "cell_type": "code",
   "execution_count": 15,
   "metadata": {},
   "outputs": [
    {
     "name": "stdout",
     "output_type": "stream",
     "text": [
      "{'id': 1, 'name': 'Alice', 'age': 30, 'city': 'Beijing'}\n",
      "{'id': 2, 'name': 'Bob', 'age': 25, 'city': 'Shanghai'}\n",
      "{'id': 3, 'name': 'Charlie', 'age': 28, 'city': 'Guangzhou'}\n"
     ]
    }
   ],
   "source": [
    "with jsonlines.open('01^test.jsonl') as reader:\n",
    "    for obj in reader:\n",
    "        print(obj)"
   ]
  },
  {
   "cell_type": "code",
   "execution_count": 16,
   "metadata": {},
   "outputs": [
    {
     "name": "stdout",
     "output_type": "stream",
     "text": [
      "[{'id': 1, 'name': 'Alice', 'age': 30, 'city': 'Beijing'}, {'id': 2, 'name': 'Bob', 'age': 25, 'city': 'Shanghai'}, {'id': 3, 'name': 'Charlie', 'age': 28, 'city': 'Guangzhou'}]\n"
     ]
    }
   ],
   "source": [
    "with jsonlines.open('01^test.jsonl') as reader:\n",
    "    data = list(reader)\n",
    "    print(data)"
   ]
  },
  {
   "cell_type": "code",
   "execution_count": 3,
   "metadata": {},
   "outputs": [
    {
     "ename": "NameError",
     "evalue": "name 'jsonlines' is not defined",
     "output_type": "error",
     "traceback": [
      "\u001b[0;31m---------------------------------------------------------------------------\u001b[0m",
      "\u001b[0;31mNameError\u001b[0m                                 Traceback (most recent call last)",
      "Cell \u001b[0;32mIn[3], line 2\u001b[0m\n\u001b[1;32m      1\u001b[0m \u001b[38;5;28;01mimport\u001b[39;00m\u001b[38;5;250m \u001b[39m\u001b[38;5;21;01mitertools\u001b[39;00m\n\u001b[0;32m----> 2\u001b[0m \u001b[38;5;28;01mwith\u001b[39;00m \u001b[43mjsonlines\u001b[49m\u001b[38;5;241m.\u001b[39mopen(\u001b[38;5;124m'\u001b[39m\u001b[38;5;124m01*test.jsonl\u001b[39m\u001b[38;5;124m'\u001b[39m) \u001b[38;5;28;01mas\u001b[39;00m reader:\n\u001b[1;32m      3\u001b[0m     data \u001b[38;5;241m=\u001b[39m \u001b[38;5;28mlist\u001b[39m(itertools\u001b[38;5;241m.\u001b[39mislice(reader,\u001b[38;5;241m2\u001b[39m))\n\u001b[1;32m      4\u001b[0m data\n",
      "\u001b[0;31mNameError\u001b[0m: name 'jsonlines' is not defined"
     ]
    }
   ],
   "source": [
    "import itertools\n",
    "with jsonlines.open('01^test.jsonl') as reader:\n",
    "    data = list(itertools.islice(reader,2))\n",
    "data"
   ]
  },
  {
   "cell_type": "markdown",
   "metadata": {},
   "source": [
    "迭代器特殊之处："
   ]
  },
  {
   "cell_type": "code",
   "execution_count": 3,
   "metadata": {},
   "outputs": [
    {
     "name": "stdout",
     "output_type": "stream",
     "text": [
      "Chunk 1: [1, 2, 3]\n",
      "Chunk 2: [4, 5, 6]\n",
      "Chunk 3: [7, 8, 9]\n",
      "Chunk 4: [10]\n",
      "Chunk 5: []\n"
     ]
    }
   ],
   "source": [
    "data = [1, 2, 3, 4, 5, 6, 7, 8, 9, 10]\n",
    "iterator = iter(data)\n",
    "\n",
    "# 第一次调用\n",
    "chunk1 = list(itertools.islice(iterator, 3)) # [1, 2, 3]\n",
    "print(\"Chunk 1:\", chunk1)\n",
    "\n",
    "# 第二次调用\n",
    "chunk2 = list(itertools.islice(iterator, 3))  # [4, 5, 6]\n",
    "print(\"Chunk 2:\", chunk2)\n",
    "\n",
    "# 第三次调用\n",
    "chunk3 = list(itertools.islice(iterator, 3))  # [7, 8, 9]\n",
    "print(\"Chunk 3:\", chunk3)\n",
    "\n",
    "# 第四次调用\n",
    "chunk4 = list(itertools.islice(iterator, 3))  # [10]\n",
    "print(\"Chunk 4:\", chunk4)\n",
    "\n",
    "# 第五次调用\n",
    "chunk5 = list(itertools.islice(iterator, 3))  # []\n",
    "print(\"Chunk 5:\", chunk5)  # 空列表，循环结束"
   ]
  }
 ],
 "metadata": {
  "kernelspec": {
   "display_name": "ai_proj",
   "language": "python",
   "name": "python3"
  },
  "language_info": {
   "codemirror_mode": {
    "name": "ipython",
    "version": 3
   },
   "file_extension": ".py",
   "mimetype": "text/x-python",
   "name": "python",
   "nbconvert_exporter": "python",
   "pygments_lexer": "ipython3",
   "version": "3.10.16"
  }
 },
 "nbformat": 4,
 "nbformat_minor": 2
}
